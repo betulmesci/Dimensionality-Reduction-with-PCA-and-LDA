{
 "cells": [
  {
   "cell_type": "markdown",
   "metadata": {},
   "source": [
    " # Dimensionality Reduction with Principal Component Analysis and Linear Discriminant Analysis \n",
    " \n",
    "*By Betul Mescioglu*\n",
    "\n",
    "To improve the efficiency and precision of a machine learning algorithm, we need high quality data. By \"high quality\", we mean having only features that highly contribute to the accuracy of predictions made by the model. We do not want features that are highly correlated as that causes redundancy, which leads to inefficieny. Fewer dimensions mean fewer calculations and less space occupied in the memory. So, our goal is to find the most optimal subset of features, which consists of the most relevant and the least redundant features. Lowering the dimension of the data observing these rules is called dimensionality reduction.\n",
    " \n",
    "Two approaches for dimensionality reduction are feature selection or feature extraction. Feature selection is simply keeping the most relevant columns. Feature extraction is a type of data compression with the goal of maintaining most of the valuable information. In practice, feature extraction is used not only for the efficiency it provides in computations and memory, but also for the role it plays in the improvement of the predictive power of the model. This is achieved by reducing the **curse of dimensionality**. The curse of dimensionality refers to a phenomenon that happens when we work with many features. As the number of features increases, our model gets more complicated and more dependent on the training data, leading the way to overfitting. To simplify our model, we need to reduce the number of features that are irrelevant or redundant.\n",
    "\n",
    "Two of the most known feature extraction techniques are Principal Component Analysis (PCA) and Linear Discriminant Analysis (LDA). In the following section, we will implement PCA and LDA on iris dataset, but let us describe the dataset first. "
   ]
  },
  {
   "cell_type": "markdown",
   "metadata": {},
   "source": [
    "## Dataset Description:"
   ]
  },
  {
   "cell_type": "markdown",
   "metadata": {},
   "source": [
    "Iris dataset contains 3 classes of 50 instances each, where each class refers to a type of iris plant. Class names are  \n",
    "- Iris Setosa\n",
    "- Iris Versicolour\n",
    "- Iris Virginica\n",
    "\n",
    "Feature names are \n",
    "1. sepal length in cm\n",
    "2. sepal width in cm\n",
    "3. petal length in cm\n",
    "4. petal width in cm \n",
    "\n",
    "There are no missing values in the dataset.\n"
   ]
  },
  {
   "cell_type": "markdown",
   "metadata": {},
   "source": [
    "## Dimensionality Reduction by Principal Component Analysis:\n",
    "\n",
    "PCA is an unsupervised dimensionality reduction technique that transforms the data onto a new feature space. When features of a dataset are highly correlated redundancy occurs. To get rid of this redundancy, PCA creates a new axis that maximizes the variation in data. First, by using the covariance matrix of the data, we find the eigenvalues and eigenvectors. By selecting the eigenvectors associated with the largest eigenvalues, we obtain principal components. These are constructed as linear combinations of the original features. Principal components are uncorrelated and obtained in such a way that the first principal component carries the most information, then the second one, and so on. Since the last few of these principal components carry the least amount of information, they can be discarded. We create a new feature vector with the remaining ones. [1]"
   ]
  },
  {
   "cell_type": "code",
   "execution_count": 1,
   "metadata": {},
   "outputs": [
    {
     "data": {
      "text/html": [
       "<div>\n",
       "<style scoped>\n",
       "    .dataframe tbody tr th:only-of-type {\n",
       "        vertical-align: middle;\n",
       "    }\n",
       "\n",
       "    .dataframe tbody tr th {\n",
       "        vertical-align: top;\n",
       "    }\n",
       "\n",
       "    .dataframe thead th {\n",
       "        text-align: right;\n",
       "    }\n",
       "</style>\n",
       "<table border=\"1\" class=\"dataframe\">\n",
       "  <thead>\n",
       "    <tr style=\"text-align: right;\">\n",
       "      <th></th>\n",
       "      <th>sepal length</th>\n",
       "      <th>sepal width</th>\n",
       "      <th>petal length</th>\n",
       "      <th>petal width</th>\n",
       "      <th>target</th>\n",
       "    </tr>\n",
       "  </thead>\n",
       "  <tbody>\n",
       "    <tr>\n",
       "      <th>0</th>\n",
       "      <td>5.1</td>\n",
       "      <td>3.5</td>\n",
       "      <td>1.4</td>\n",
       "      <td>0.2</td>\n",
       "      <td>Iris-setosa</td>\n",
       "    </tr>\n",
       "    <tr>\n",
       "      <th>1</th>\n",
       "      <td>4.9</td>\n",
       "      <td>3.0</td>\n",
       "      <td>1.4</td>\n",
       "      <td>0.2</td>\n",
       "      <td>Iris-setosa</td>\n",
       "    </tr>\n",
       "    <tr>\n",
       "      <th>2</th>\n",
       "      <td>4.7</td>\n",
       "      <td>3.2</td>\n",
       "      <td>1.3</td>\n",
       "      <td>0.2</td>\n",
       "      <td>Iris-setosa</td>\n",
       "    </tr>\n",
       "    <tr>\n",
       "      <th>3</th>\n",
       "      <td>4.6</td>\n",
       "      <td>3.1</td>\n",
       "      <td>1.5</td>\n",
       "      <td>0.2</td>\n",
       "      <td>Iris-setosa</td>\n",
       "    </tr>\n",
       "    <tr>\n",
       "      <th>4</th>\n",
       "      <td>5.0</td>\n",
       "      <td>3.6</td>\n",
       "      <td>1.4</td>\n",
       "      <td>0.2</td>\n",
       "      <td>Iris-setosa</td>\n",
       "    </tr>\n",
       "  </tbody>\n",
       "</table>\n",
       "</div>"
      ],
      "text/plain": [
       "   sepal length  sepal width  petal length  petal width       target\n",
       "0           5.1          3.5           1.4          0.2  Iris-setosa\n",
       "1           4.9          3.0           1.4          0.2  Iris-setosa\n",
       "2           4.7          3.2           1.3          0.2  Iris-setosa\n",
       "3           4.6          3.1           1.5          0.2  Iris-setosa\n",
       "4           5.0          3.6           1.4          0.2  Iris-setosa"
      ]
     },
     "execution_count": 1,
     "metadata": {},
     "output_type": "execute_result"
    }
   ],
   "source": [
    "#import necessary libraries:\n",
    "import numpy as np\n",
    "import pandas as pd\n",
    "import seaborn as sns\n",
    "import matplotlib.pyplot as plt\n",
    "from sklearn.preprocessing import StandardScaler\n",
    "\n",
    "#Get the IRIS dataset\n",
    "url = \"https://archive.ics.uci.edu/ml/machine-learning-databases/iris/iris.data\"\n",
    "data = pd.read_csv(url, names=['sepal length','sepal width','petal length','petal width','target'])\n",
    " \n",
    "#Features\n",
    "X = data.iloc[:,0:4]\n",
    " \n",
    "#Target\n",
    "target = data.iloc[:,4]\n",
    "#Combine features and target in a dataframe:\n",
    "df = pd.concat([X, target], axis=1)\n",
    "df.head()\n"
   ]
  },
  {
   "cell_type": "code",
   "execution_count": 2,
   "metadata": {},
   "outputs": [],
   "source": [
    "def PCA_manual(X , n_components):\n",
    "    '''\n",
    "        This function takes in features and the desired component number. \n",
    "        It subtracts mean values of features \n",
    "        from the original values to normalize them and calculates the \n",
    "        covariance matrix of the normalized features.\n",
    "        It, then, calculates the eigenvalues and eigenvectors \n",
    "        of the covariance matrix, sorts eigenvalues and eigenvectors \n",
    "        from the greatest to smallest. It subsets the \n",
    "        eigenvectors according to the given \n",
    "        number of components. These vectors are \n",
    "        multiplied by the normalized features to obtain new \n",
    "        features. New features are returned.'''    \n",
    "    #normalize features\n",
    "    X_norm = X - np.mean(X , axis = 0)\n",
    "     \n",
    "    #Calculate convariance matrix\n",
    "    cov_mat = np.cov(X_norm , rowvar = False)\n",
    "     \n",
    "    #Calculate eigenvalues and eigenvectors\n",
    "    eigen_values , eigen_vectors = np.linalg.eigh(cov_mat)\n",
    "    #Sort the eigenvalues\n",
    "    sort_index = np.argsort(eigen_values)[::-1]\n",
    "    sort_eigenvalue = eigen_values[sort_index]\n",
    "    #Sort the eigenvectors \n",
    "    sort_eigenvectors = eigen_vectors[:,sort_index]\n",
    "    #Subset the eigenvector \n",
    "    eigenvector_n_comp = sort_eigenvectors[:,0:n_components]\n",
    "    #Calculate new features:\n",
    "    new_features= np.dot(eigenvector_n_comp.transpose() , X_norm.transpose() ).transpose()\n",
    "     #Return new features\n",
    "    return new_features"
   ]
  },
  {
   "cell_type": "markdown",
   "metadata": {},
   "source": [
    "### Projecting the Data Points to 1D with the First Principal Component:"
   ]
  },
  {
   "cell_type": "code",
   "execution_count": 3,
   "metadata": {},
   "outputs": [
    {
     "data": {
      "text/html": [
       "<div>\n",
       "<style scoped>\n",
       "    .dataframe tbody tr th:only-of-type {\n",
       "        vertical-align: middle;\n",
       "    }\n",
       "\n",
       "    .dataframe tbody tr th {\n",
       "        vertical-align: top;\n",
       "    }\n",
       "\n",
       "    .dataframe thead th {\n",
       "        text-align: right;\n",
       "    }\n",
       "</style>\n",
       "<table border=\"1\" class=\"dataframe\">\n",
       "  <thead>\n",
       "    <tr style=\"text-align: right;\">\n",
       "      <th></th>\n",
       "      <th>PC1</th>\n",
       "      <th>target</th>\n",
       "      <th>y</th>\n",
       "    </tr>\n",
       "  </thead>\n",
       "  <tbody>\n",
       "    <tr>\n",
       "      <th>0</th>\n",
       "      <td>2.684207</td>\n",
       "      <td>Iris-setosa</td>\n",
       "      <td>0</td>\n",
       "    </tr>\n",
       "    <tr>\n",
       "      <th>1</th>\n",
       "      <td>2.715391</td>\n",
       "      <td>Iris-setosa</td>\n",
       "      <td>0</td>\n",
       "    </tr>\n",
       "    <tr>\n",
       "      <th>2</th>\n",
       "      <td>2.889820</td>\n",
       "      <td>Iris-setosa</td>\n",
       "      <td>0</td>\n",
       "    </tr>\n",
       "    <tr>\n",
       "      <th>3</th>\n",
       "      <td>2.746437</td>\n",
       "      <td>Iris-setosa</td>\n",
       "      <td>0</td>\n",
       "    </tr>\n",
       "    <tr>\n",
       "      <th>4</th>\n",
       "      <td>2.728593</td>\n",
       "      <td>Iris-setosa</td>\n",
       "      <td>0</td>\n",
       "    </tr>\n",
       "  </tbody>\n",
       "</table>\n",
       "</div>"
      ],
      "text/plain": [
       "        PC1       target  y\n",
       "0  2.684207  Iris-setosa  0\n",
       "1  2.715391  Iris-setosa  0\n",
       "2  2.889820  Iris-setosa  0\n",
       "3  2.746437  Iris-setosa  0\n",
       "4  2.728593  Iris-setosa  0"
      ]
     },
     "execution_count": 3,
     "metadata": {},
     "output_type": "execute_result"
    }
   ],
   "source": [
    "one_comp = PCA_manual(X, 1)\n",
    "one_comp_feat = pd.DataFrame(one_comp , columns = ['PC1'])\n",
    "\n",
    "#Combine PCA1 with target variable to create a complete Dataset\n",
    "one_comp_df = pd.concat([one_comp_feat ,pd.DataFrame(target)] , axis = 1)\n",
    "#To plot the First Principal Component, we need a one dimensional number line where y=0:\n",
    "one_comp_df[\"y\"]=0\n",
    "one_comp_df.head()"
   ]
  },
  {
   "cell_type": "code",
   "execution_count": 4,
   "metadata": {},
   "outputs": [
    {
     "name": "stdout",
     "output_type": "stream",
     "text": [
      "Sklearn's PCA results:  [-2.68, -2.72, -2.89, -2.75, -2.73, -2.28, -2.82, -2.63, -2.89, -2.67, -2.51, -2.61, -2.79, -3.23, -2.64, -2.38, -2.62, -2.65, -2.2, -2.59, -2.31, -2.54, -3.22, -2.3, -2.36, -2.51, -2.47, -2.56, -2.64, -2.63, -2.59, -2.41, -2.65, -2.6, -2.67, -2.87, -2.63, -2.67, -2.98, -2.59, -2.77, -2.85, -3.0, -2.41, -2.21, -2.72, -2.54, -2.84, -2.54, -2.7, 1.28, 0.93, 1.46, 0.18, 1.09, 0.64, 1.1, -0.75, 1.04, -0.01, -0.51, 0.51, 0.26, 0.98, -0.17, 0.93, 0.66, 0.23, 0.94, 0.04, 1.12, 0.36, 1.3, 0.92, 0.71, 0.9, 1.33, 1.56, 0.81, -0.31, -0.07, -0.19, 0.13, 1.38, 0.59, 0.81, 1.22, 0.81, 0.25, 0.16, 0.46, 0.89, 0.23, -0.71, 0.36, 0.33, 0.38, 0.64, -0.91, 0.3, 2.53, 1.41, 2.62, 1.97, 2.35, 3.4, 0.52, 2.93, 2.32, 2.92, 1.66, 1.8, 2.17, 1.34, 1.59, 1.9, 1.95, 3.49, 3.79, 1.3, 2.43, 1.2, 3.5, 1.39, 2.28, 2.61, 1.26, 1.29, 2.12, 2.39, 2.84, 3.23, 2.16, 1.44, 1.78, 3.08, 2.14, 1.9, 1.17, 2.11, 2.31, 1.92, 1.41, 2.56, 2.42, 1.94, 1.53, 1.76, 1.9, 1.39]\n",
      "-----------\n",
      "Our PCA's results:  [-2.68 -2.72 -2.89 -2.75 -2.73 -2.28 -2.82 -2.63 -2.89 -2.67 -2.51 -2.61\n",
      " -2.79 -3.23 -2.64 -2.38 -2.62 -2.65 -2.2  -2.59 -2.31 -2.54 -3.22 -2.3\n",
      " -2.36 -2.51 -2.47 -2.56 -2.64 -2.63 -2.59 -2.41 -2.65 -2.6  -2.67 -2.87\n",
      " -2.63 -2.67 -2.98 -2.59 -2.77 -2.85 -3.   -2.41 -2.21 -2.72 -2.54 -2.84\n",
      " -2.54 -2.7   1.28  0.93  1.46  0.18  1.09  0.64  1.1  -0.75  1.04 -0.01\n",
      " -0.51  0.51  0.26  0.98 -0.17  0.93  0.66  0.23  0.94  0.04  1.12  0.36\n",
      "  1.3   0.92  0.71  0.9   1.33  1.56  0.81 -0.31 -0.07 -0.19  0.13  1.38\n",
      "  0.59  0.81  1.22  0.81  0.25  0.16  0.46  0.89  0.23 -0.71  0.36  0.33\n",
      "  0.38  0.64 -0.91  0.3   2.53  1.41  2.62  1.97  2.35  3.4   0.52  2.93\n",
      "  2.32  2.92  1.66  1.8   2.17  1.34  1.59  1.9   1.95  3.49  3.79  1.3\n",
      "  2.43  1.2   3.5   1.39  2.28  2.61  1.26  1.29  2.12  2.39  2.84  3.23\n",
      "  2.16  1.44  1.78  3.08  2.14  1.9   1.17  2.11  2.31  1.92  1.41  2.56\n",
      "  2.42  1.94  1.53  1.76  1.9   1.39]\n",
      "-----------\n",
      "In 150 cases (all instances) PCA1s match.\n"
     ]
    }
   ],
   "source": [
    "#Check whether sklearn's PCA produces the same results?\n",
    "#import PCA\n",
    "from sklearn.decomposition import PCA\n",
    "pca = PCA(n_components=1)\n",
    "#PCA1 is stored in x_new\n",
    "x_new = pca.fit_transform(X)\n",
    "#flatten the matrix\n",
    "x_new_flat = x_new.flatten()\n",
    "#Round the numbers so we can compare\n",
    "x_new_rounded = []\n",
    "for i in x_new_flat:\n",
    "    x_new_rounded.append(round(i, 2))\n",
    "print(\"Sklearn's PCA results: \", x_new_rounded)\n",
    "\n",
    "one_comp_df_rounded =( -1)*(one_comp_df['PC1'].round(2))\n",
    "print(\"-----------\")\n",
    "print(\"Our PCA's results: \", one_comp_df_rounded.values)\n",
    "check_same = one_comp_df_rounded==x_new_rounded\n",
    "print(\"-----------\")\n",
    "print(\"In {} cases (all instances) PCA1s match.\".format(check_same.sum()))"
   ]
  },
  {
   "cell_type": "code",
   "execution_count": 5,
   "metadata": {},
   "outputs": [
    {
     "data": {
      "text/plain": [
       "Text(0.5, 1.0, 'Features transformed to 1D by PCA')"
      ]
     },
     "execution_count": 5,
     "metadata": {},
     "output_type": "execute_result"
    },
    {
     "data": {
      "image/png": "[encoded data removed]",
      "text/plain": [
       "<Figure size 463.25x360 with 1 Axes>"
      ]
     },
     "metadata": {
      "needs_background": "light"
     },
     "output_type": "display_data"
    }
   ],
   "source": [
    "#Plot the projected data points o a number line\n",
    "ax=sns.lmplot(data=one_comp_df,x='PC1',y='y', hue='target', scatter_kws={'alpha':0.5},fit_reg=False)\n",
    "ax = plt.gca()\n",
    "#hide y-axis \n",
    "ax.get_yaxis().set_visible(False)\n",
    "ax.spines['left'].set_visible(False)\n",
    "plt.ylim(-0.05, 0.05)\n",
    "plt.title(\"Features transformed to 1D by PCA\")"
   ]
  },
  {
   "cell_type": "markdown",
   "metadata": {},
   "source": [
    "Since, PCA is an unsupervised learning technique, it does not perfectly separate iris-versicolor and iris-virginica classes, as seen in the plot."
   ]
  },
  {
   "cell_type": "markdown",
   "metadata": {},
   "source": [
    "### Projecting the Data Points to 2D with Two Principal Components:"
   ]
  },
  {
   "cell_type": "code",
   "execution_count": 6,
   "metadata": {},
   "outputs": [
    {
     "data": {
      "text/html": [
       "<div>\n",
       "<style scoped>\n",
       "    .dataframe tbody tr th:only-of-type {\n",
       "        vertical-align: middle;\n",
       "    }\n",
       "\n",
       "    .dataframe tbody tr th {\n",
       "        vertical-align: top;\n",
       "    }\n",
       "\n",
       "    .dataframe thead th {\n",
       "        text-align: right;\n",
       "    }\n",
       "</style>\n",
       "<table border=\"1\" class=\"dataframe\">\n",
       "  <thead>\n",
       "    <tr style=\"text-align: right;\">\n",
       "      <th></th>\n",
       "      <th>PC1</th>\n",
       "      <th>PC2</th>\n",
       "      <th>target</th>\n",
       "    </tr>\n",
       "  </thead>\n",
       "  <tbody>\n",
       "    <tr>\n",
       "      <th>0</th>\n",
       "      <td>2.684207</td>\n",
       "      <td>0.326607</td>\n",
       "      <td>Iris-setosa</td>\n",
       "    </tr>\n",
       "    <tr>\n",
       "      <th>1</th>\n",
       "      <td>2.715391</td>\n",
       "      <td>-0.169557</td>\n",
       "      <td>Iris-setosa</td>\n",
       "    </tr>\n",
       "    <tr>\n",
       "      <th>2</th>\n",
       "      <td>2.889820</td>\n",
       "      <td>-0.137346</td>\n",
       "      <td>Iris-setosa</td>\n",
       "    </tr>\n",
       "    <tr>\n",
       "      <th>3</th>\n",
       "      <td>2.746437</td>\n",
       "      <td>-0.311124</td>\n",
       "      <td>Iris-setosa</td>\n",
       "    </tr>\n",
       "    <tr>\n",
       "      <th>4</th>\n",
       "      <td>2.728593</td>\n",
       "      <td>0.333925</td>\n",
       "      <td>Iris-setosa</td>\n",
       "    </tr>\n",
       "  </tbody>\n",
       "</table>\n",
       "</div>"
      ],
      "text/plain": [
       "        PC1       PC2       target\n",
       "0  2.684207  0.326607  Iris-setosa\n",
       "1  2.715391 -0.169557  Iris-setosa\n",
       "2  2.889820 -0.137346  Iris-setosa\n",
       "3  2.746437 -0.311124  Iris-setosa\n",
       "4  2.728593  0.333925  Iris-setosa"
      ]
     },
     "execution_count": 6,
     "metadata": {},
     "output_type": "execute_result"
    }
   ],
   "source": [
    "#Applying PCA_manual \n",
    "two_comp= PCA_manual(X , 2)\n",
    " \n",
    "#Creating a Pandas DataFrame of reduced Dataset\n",
    "two_comp_feat = pd.DataFrame(two_comp , columns = ['PC1','PC2'])\n",
    " \n",
    "#Combine it with target variable to create a complete Dataset\n",
    "two_comp_df= pd.concat([two_comp_feat , pd.DataFrame(target)] , axis = 1)\n",
    "two_comp_df.head()"
   ]
  },
  {
   "cell_type": "code",
   "execution_count": 7,
   "metadata": {},
   "outputs": [
    {
     "data": {
      "text/plain": [
       "Text(0.5, 1.0, 'Features Transformed to 2D by PCA')"
      ]
     },
     "execution_count": 7,
     "metadata": {},
     "output_type": "execute_result"
    },
    {
     "data": {
      "image/png": "[encoded data removed]",
      "text/plain": [
       "<Figure size 432x288 with 1 Axes>"
      ]
     },
     "metadata": {
      "needs_background": "light"
     },
     "output_type": "display_data"
    }
   ],
   "source": [
    "sns.scatterplot(data=two_comp_df, x='PC1', y='PC2', hue='target')\n",
    "plt.title(\"Features Transformed to 2D by PCA\")"
   ]
  },
  {
   "cell_type": "markdown",
   "metadata": {},
   "source": [
    "Again, with two principal components, iris-versicolor and iris-virginica are not perfectly separable."
   ]
  },
  {
   "cell_type": "markdown",
   "metadata": {},
   "source": [
    "### Projecting the Data Points to 3D with Three Principal Components:"
   ]
  },
  {
   "cell_type": "code",
   "execution_count": 8,
   "metadata": {},
   "outputs": [
    {
     "data": {
      "text/html": [
       "<div>\n",
       "<style scoped>\n",
       "    .dataframe tbody tr th:only-of-type {\n",
       "        vertical-align: middle;\n",
       "    }\n",
       "\n",
       "    .dataframe tbody tr th {\n",
       "        vertical-align: top;\n",
       "    }\n",
       "\n",
       "    .dataframe thead th {\n",
       "        text-align: right;\n",
       "    }\n",
       "</style>\n",
       "<table border=\"1\" class=\"dataframe\">\n",
       "  <thead>\n",
       "    <tr style=\"text-align: right;\">\n",
       "      <th></th>\n",
       "      <th>PC1</th>\n",
       "      <th>PC2</th>\n",
       "      <th>PC3</th>\n",
       "      <th>target</th>\n",
       "    </tr>\n",
       "  </thead>\n",
       "  <tbody>\n",
       "    <tr>\n",
       "      <th>0</th>\n",
       "      <td>2.684207</td>\n",
       "      <td>0.326607</td>\n",
       "      <td>0.021512</td>\n",
       "      <td>Iris-setosa</td>\n",
       "    </tr>\n",
       "    <tr>\n",
       "      <th>1</th>\n",
       "      <td>2.715391</td>\n",
       "      <td>-0.169557</td>\n",
       "      <td>0.203521</td>\n",
       "      <td>Iris-setosa</td>\n",
       "    </tr>\n",
       "    <tr>\n",
       "      <th>2</th>\n",
       "      <td>2.889820</td>\n",
       "      <td>-0.137346</td>\n",
       "      <td>-0.024709</td>\n",
       "      <td>Iris-setosa</td>\n",
       "    </tr>\n",
       "    <tr>\n",
       "      <th>3</th>\n",
       "      <td>2.746437</td>\n",
       "      <td>-0.311124</td>\n",
       "      <td>-0.037672</td>\n",
       "      <td>Iris-setosa</td>\n",
       "    </tr>\n",
       "    <tr>\n",
       "      <th>4</th>\n",
       "      <td>2.728593</td>\n",
       "      <td>0.333925</td>\n",
       "      <td>-0.096230</td>\n",
       "      <td>Iris-setosa</td>\n",
       "    </tr>\n",
       "  </tbody>\n",
       "</table>\n",
       "</div>"
      ],
      "text/plain": [
       "        PC1       PC2       PC3       target\n",
       "0  2.684207  0.326607  0.021512  Iris-setosa\n",
       "1  2.715391 -0.169557  0.203521  Iris-setosa\n",
       "2  2.889820 -0.137346 -0.024709  Iris-setosa\n",
       "3  2.746437 -0.311124 -0.037672  Iris-setosa\n",
       "4  2.728593  0.333925 -0.096230  Iris-setosa"
      ]
     },
     "execution_count": 8,
     "metadata": {},
     "output_type": "execute_result"
    }
   ],
   "source": [
    "#Applying PCA_manual with 3 components\n",
    "three_comp = PCA_manual(X , 3)\n",
    " \n",
    "#Creating a Pandas DataFrame of reduced Dataset\n",
    "three_comp_feat = pd.DataFrame(three_comp, columns = ['PC1','PC2','PC3'])\n",
    " \n",
    "#Combine PCAs with target variable to create a complete Dataset\n",
    "three_comp_df = pd.concat([three_comp_feat, pd.DataFrame(target)] , axis = 1)\n",
    "three_comp_df.head()"
   ]
  },
  {
   "cell_type": "code",
   "execution_count": 9,
   "metadata": {},
   "outputs": [
    {
     "data": {
      "text/plain": [
       "Text(0.5, 0.92, 'Features Transformed to 3D by PCA')"
      ]
     },
     "execution_count": 9,
     "metadata": {},
     "output_type": "execute_result"
    },
    {
     "data": {
      "image/png": "[encoded data removed]",
      "text/plain": [
       "<Figure size 432x432 with 1 Axes>"
      ]
     },
     "metadata": {
      "needs_background": "light"
     },
     "output_type": "display_data"
    }
   ],
   "source": [
    "from mpl_toolkits.mplot3d import Axes3D\n",
    "\n",
    "fig = plt.figure(figsize=(6,6))\n",
    "ax = Axes3D(fig)\n",
    "\n",
    "for grp_name, grp_idx in three_comp_df.groupby('target').groups.items():\n",
    "    x = three_comp_df.iloc[grp_idx,0]\n",
    "    y = three_comp_df.iloc[grp_idx,1]\n",
    "    z = three_comp_df.iloc[grp_idx,2]\n",
    "    ax.scatter(x,y,z, label=grp_name, alpha=0.8)  \n",
    "plt.legend()\n",
    "ax.set_xlabel('PC1')\n",
    "ax.set_ylabel('PC2')\n",
    "ax.set_zlabel('PC3')\n",
    "plt.title(\"Features Transformed to 3D by PCA\")"
   ]
  },
  {
   "cell_type": "markdown",
   "metadata": {},
   "source": [
    "We can not see the separation between iris-versicolor and iris-virginica properly. The following plot shows the separation."
   ]
  },
  {
   "cell_type": "code",
   "execution_count": 10,
   "metadata": {},
   "outputs": [
    {
     "data": {
      "text/plain": [
       "Text(0.5, 1.0, 'Separation between Iris-versicolor and Iris-virginica')"
      ]
     },
     "execution_count": 10,
     "metadata": {},
     "output_type": "execute_result"
    },
    {
     "data": {
      "image/png": "[encoded data removed]",
      "text/plain": [
       "<Figure size 432x432 with 1 Axes>"
      ]
     },
     "metadata": {
      "needs_background": "light"
     },
     "output_type": "display_data"
    }
   ],
   "source": [
    "fig = plt.figure(figsize=(6,6))\n",
    "ax = fig.add_subplot()\n",
    "df = three_comp_df[['PC1', 'PC2','target']]\n",
    "df2 = df[df['target']!='Iris-setosa']\n",
    "sns.scatterplot(data=df2, x='PC1',y='PC2', hue='target', palette=['darkorange', 'green'])\n",
    "plt.title(\"Separation between Iris-versicolor and Iris-virginica\")"
   ]
  },
  {
   "cell_type": "markdown",
   "metadata": {},
   "source": [
    "They are not clearly separated in 3D as well."
   ]
  },
  {
   "cell_type": "markdown",
   "metadata": {},
   "source": [
    "### Scree Graph:\n",
    "Previously, we mentioned that the first principal component packs the most information, then the second one and so on. A scree graph shows what percentage of the data is carried by each principal component. Let's draw the scree graph for iris dataset:"
   ]
  },
  {
   "cell_type": "code",
   "execution_count": 11,
   "metadata": {},
   "outputs": [],
   "source": [
    "cov_mat = np.cov(X.T)\n",
    "eigen_vals, eigen_vecs = np.linalg.eigh(cov_mat)"
   ]
  },
  {
   "cell_type": "code",
   "execution_count": 12,
   "metadata": {},
   "outputs": [
    {
     "name": "stdout",
     "output_type": "stream",
     "text": [
      "[0.02368303 0.07852391 0.24224357 4.22484077]\n"
     ]
    }
   ],
   "source": [
    "print(eigen_vals)"
   ]
  },
  {
   "cell_type": "code",
   "execution_count": 13,
   "metadata": {},
   "outputs": [
    {
     "data": {
      "text/html": [
       "<div>\n",
       "<style scoped>\n",
       "    .dataframe tbody tr th:only-of-type {\n",
       "        vertical-align: middle;\n",
       "    }\n",
       "\n",
       "    .dataframe tbody tr th {\n",
       "        vertical-align: top;\n",
       "    }\n",
       "\n",
       "    .dataframe thead th {\n",
       "        text-align: right;\n",
       "    }\n",
       "</style>\n",
       "<table border=\"1\" class=\"dataframe\">\n",
       "  <thead>\n",
       "    <tr style=\"text-align: right;\">\n",
       "      <th></th>\n",
       "      <th>Percent of Data Packed in each PCA</th>\n",
       "    </tr>\n",
       "  </thead>\n",
       "  <tbody>\n",
       "    <tr>\n",
       "      <th>PCA1</th>\n",
       "      <td>92.461621</td>\n",
       "    </tr>\n",
       "    <tr>\n",
       "      <th>PCA2</th>\n",
       "      <td>5.301557</td>\n",
       "    </tr>\n",
       "    <tr>\n",
       "      <th>PCA3</th>\n",
       "      <td>1.718514</td>\n",
       "    </tr>\n",
       "    <tr>\n",
       "      <th>PCA4</th>\n",
       "      <td>0.518309</td>\n",
       "    </tr>\n",
       "  </tbody>\n",
       "</table>\n",
       "</div>"
      ],
      "text/plain": [
       "      Percent of Data Packed in each PCA\n",
       "PCA1                           92.461621\n",
       "PCA2                            5.301557\n",
       "PCA3                            1.718514\n",
       "PCA4                            0.518309"
      ]
     },
     "execution_count": 13,
     "metadata": {},
     "output_type": "execute_result"
    },
    {
     "data": {
      "image/png": "[encoded data removed]",
      "text/plain": [
       "<Figure size 432x288 with 1 Axes>"
      ]
     },
     "metadata": {
      "needs_background": "light"
     },
     "output_type": "display_data"
    }
   ],
   "source": [
    "total = sum(eigen_vals)\n",
    "variance = [(i/total)*100 for i in sorted(eigen_vals, reverse=True)]\n",
    "packed = pd.DataFrame(variance, columns=['Percent of Data Packed in each PCA'], index=['PCA1','PCA2','PCA3','PCA4'])\n",
    "packed.plot(kind='bar', color='g')\n",
    "plt.title('Scree Graph')\n",
    "plt.ylabel('% of data')\n",
    "plt.xlabel('PCA Components')\n",
    "packed.head()"
   ]
  },
  {
   "cell_type": "markdown",
   "metadata": {},
   "source": [
    "The first pirincipal component captures 92% of the data, while the second one has only 5.3% of the data. Therefore, we can conclude that converting features to 2D would be representative enough."
   ]
  },
  {
   "cell_type": "markdown",
   "metadata": {},
   "source": [
    "## Dimensionality Reduction by Linear Discriminant Analysis (LDA): \n",
    "LDA is another feature extraction method that increases the computational efficiency and reduces the degree of overfitting due to the curse of dimensionality. Just like PCA, LDA also creates a new axis to lower the dimension, but it uses a different approach in projecting the points onto this new axis. Two criteria are observed in this process: maximizing the distance between the mean values of the classes and minimizing the variance of the data points within classes. This is done to ensure that even the data points that fall near the boundary of their class is as far away from the other classes' boundaries as possible. Therefore, all data points fall in their correct classes. Obviously, we would need the class labels to carry out this process. So, LDA is a supervised machine learning technique.[2]"
   ]
  },
  {
   "cell_type": "code",
   "execution_count": 14,
   "metadata": {},
   "outputs": [],
   "source": [
    "#prepare the data\n",
    "X = data.iloc[:,0:4].values\n",
    " \n",
    "#prepare the target\n",
    "y = data.iloc[:,4]\n",
    "#df = pd.concat([X, y], axis=1)\n",
    "#df\n",
    "y.replace({\"Iris-setosa\":1, \"Iris-versicolor\":2, \"Iris-virginica\":3}, inplace=True)\n",
    "\n",
    "sc=StandardScaler()\n",
    "X=sc.fit_transform(X)\n",
    "y = y.values"
   ]
  },
  {
   "cell_type": "code",
   "execution_count": 15,
   "metadata": {},
   "outputs": [
    {
     "data": {
      "text/plain": [
       "[array([-1.01457897,  0.84230679, -1.30487835, -1.25512862]),\n",
       " array([ 0.11228223, -0.65718442,  0.28508673,  0.16740892]),\n",
       " array([ 0.90229674, -0.18512237,  1.01979162,  1.08771971])]"
      ]
     },
     "execution_count": 15,
     "metadata": {},
     "output_type": "execute_result"
    }
   ],
   "source": [
    "#For each class, compute the mean vector\n",
    "class1 = X[y==1]\n",
    "class2 = X[y==2]\n",
    "class3 = X[y==3]\n",
    "feat_mean_vec =[np.mean(class1, axis=0), np.mean(class2, axis=0), np.mean(class3, axis=0)] \n",
    "feat_mean_vec"
   ]
  },
  {
   "cell_type": "code",
   "execution_count": 16,
   "metadata": {},
   "outputs": [
    {
     "data": {
      "text/plain": [
       "array([[1.16722735, 0.78296373, 0.34611786, 0.18386817],\n",
       "       [0.78296373, 1.8615894 , 0.21806165, 0.30505192],\n",
       "       [0.34611786, 0.21806165, 0.1796358 , 0.09541594],\n",
       "       [0.18386817, 0.30505192, 0.09541594, 0.21784923]])"
      ]
     },
     "execution_count": 16,
     "metadata": {},
     "output_type": "execute_result"
    }
   ],
   "source": [
    "#Calculate within class scatter matrix Sw\n",
    "Sw=np.cov(class1.T)+np.cov(class2.T)+np.cov(class3.T)\n",
    "Sw"
   ]
  },
  {
   "cell_type": "code",
   "execution_count": 17,
   "metadata": {},
   "outputs": [],
   "source": [
    "mean_X = np.mean(X, axis=0)"
   ]
  },
  {
   "cell_type": "code",
   "execution_count": 18,
   "metadata": {},
   "outputs": [],
   "source": [
    "#Calculate between-class scatter matrix Sb\n",
    "f = 4\n",
    "Sb = np.zeros((f,f))\n",
    "for i, f_mean in enumerate(feat_mean_vec):\n",
    "    n=X[y==i+1,:].shape[0]\n",
    "    f_mean = f_mean.reshape(f,1)\n",
    "    mean_X = mean_X.reshape(f,1)\n",
    "    Sb += n*(f_mean-mean_X).dot((f_mean-mean_X).T)\n"
   ]
  },
  {
   "cell_type": "code",
   "execution_count": 19,
   "metadata": {},
   "outputs": [],
   "source": [
    "#Calculate Sb/Sw by inversing Sw and multiplying it by Sb:\n",
    "#Find eigenvalues and eigenvectors: \n",
    "eig_val , eig_vec = np.linalg.eig(np.linalg.inv(Sw).dot(Sb))"
   ]
  },
  {
   "cell_type": "code",
   "execution_count": 20,
   "metadata": {},
   "outputs": [
    {
     "data": {
      "text/plain": [
       "array([ 1.58132593e+03,  1.36007763e+01,  5.78627536e-14, -2.88280103e-13])"
      ]
     },
     "execution_count": 20,
     "metadata": {},
     "output_type": "execute_result"
    }
   ],
   "source": [
    "eig_val"
   ]
  },
  {
   "cell_type": "code",
   "execution_count": 21,
   "metadata": {},
   "outputs": [],
   "source": [
    "#Find the eigenvector corresponding to the greatest eigenvalue\n",
    "#LDA1 requires the first component only:\n",
    "sort_index = np.argsort(eig_val)[::-1]\n",
    "sort_eigenvalue = eig_val[sort_index]\n",
    "sort_eigenvectors = eig_vec[:,sort_index]\n",
    "eigenvector_first_comp = sort_eigenvectors[:,0]"
   ]
  },
  {
   "cell_type": "code",
   "execution_count": 22,
   "metadata": {},
   "outputs": [
    {
     "data": {
      "text/plain": [
       "array([[-0.1497757 ],\n",
       "       [-0.14817298],\n",
       "       [ 0.85112189],\n",
       "       [ 0.48083628]])"
      ]
     },
     "execution_count": 22,
     "metadata": {},
     "output_type": "execute_result"
    }
   ],
   "source": [
    "#w has the first eigenvector \n",
    "w = eigenvector_first_comp[:, np.newaxis]\n",
    "w"
   ]
  },
  {
   "cell_type": "code",
   "execution_count": 23,
   "metadata": {},
   "outputs": [],
   "source": [
    "#Project the samples onto the new feature subspace using the transformation matrix w\n",
    "LDA = X.dot(w)"
   ]
  },
  {
   "cell_type": "code",
   "execution_count": 24,
   "metadata": {},
   "outputs": [
    {
     "data": {
      "text/html": [
       "<div>\n",
       "<style scoped>\n",
       "    .dataframe tbody tr th:only-of-type {\n",
       "        vertical-align: middle;\n",
       "    }\n",
       "\n",
       "    .dataframe tbody tr th {\n",
       "        vertical-align: top;\n",
       "    }\n",
       "\n",
       "    .dataframe thead th {\n",
       "        text-align: right;\n",
       "    }\n",
       "</style>\n",
       "<table border=\"1\" class=\"dataframe\">\n",
       "  <thead>\n",
       "    <tr style=\"text-align: right;\">\n",
       "      <th></th>\n",
       "      <th>LDA1</th>\n",
       "      <th>target</th>\n",
       "      <th>y</th>\n",
       "    </tr>\n",
       "  </thead>\n",
       "  <tbody>\n",
       "    <tr>\n",
       "      <th>0</th>\n",
       "      <td>-1.790936</td>\n",
       "      <td>1</td>\n",
       "      <td>0</td>\n",
       "    </tr>\n",
       "    <tr>\n",
       "      <th>1</th>\n",
       "      <td>-1.583202</td>\n",
       "      <td>1</td>\n",
       "      <td>0</td>\n",
       "    </tr>\n",
       "    <tr>\n",
       "      <th>2</th>\n",
       "      <td>-1.663881</td>\n",
       "      <td>1</td>\n",
       "      <td>0</td>\n",
       "    </tr>\n",
       "    <tr>\n",
       "      <th>3</th>\n",
       "      <td>-1.514646</td>\n",
       "      <td>1</td>\n",
       "      <td>0</td>\n",
       "    </tr>\n",
       "    <tr>\n",
       "      <th>4</th>\n",
       "      <td>-1.807076</td>\n",
       "      <td>1</td>\n",
       "      <td>0</td>\n",
       "    </tr>\n",
       "  </tbody>\n",
       "</table>\n",
       "</div>"
      ],
      "text/plain": [
       "       LDA1  target  y\n",
       "0 -1.790936       1  0\n",
       "1 -1.583202       1  0\n",
       "2 -1.663881       1  0\n",
       "3 -1.514646       1  0\n",
       "4 -1.807076       1  0"
      ]
     },
     "execution_count": 24,
     "metadata": {},
     "output_type": "execute_result"
    }
   ],
   "source": [
    "#Create a dataframe that has the new feature\n",
    "lda_df = pd.DataFrame(LDA , columns = ['LDA1'])\n",
    "\n",
    "#Combine it with target variable to create a complete Dataset\n",
    "lda_target = pd.concat([lda_df ,pd.DataFrame(y, columns = [\"target\"])] , axis = 1)\n",
    "#To graph on a number line where y=0:\n",
    "lda_target[\"y\"]=0\n",
    "lda_target.head()"
   ]
  },
  {
   "cell_type": "code",
   "execution_count": 25,
   "metadata": {},
   "outputs": [
    {
     "data": {
      "image/png": "[encoded data removed]",
      "text/plain": [
       "<Figure size 402.375x360 with 1 Axes>"
      ]
     },
     "metadata": {
      "needs_background": "light"
     },
     "output_type": "display_data"
    }
   ],
   "source": [
    "#Plot data point transformed to 1D\n",
    "ax=sns.lmplot(data=lda_target,x='LDA1',y='y', hue='target', scatter_kws={'alpha':0.5},fit_reg=False)\n",
    "ax._legend.remove()\n",
    "plt.ylim(-0.05, 0.05)\n",
    "plt.title(\"Features transformed to 1D by LDA\")\n",
    "plt.legend({\"Iris-setosa\":1, \"Iris-versicolor\":2, \"Iris-virginica\":3})\n",
    "ax = plt.gca()\n",
    "#hide y-axis \n",
    "ax.get_yaxis().set_visible(False)\n",
    "ax.spines['left'].set_visible(False)"
   ]
  },
  {
   "cell_type": "markdown",
   "metadata": {},
   "source": [
    "## Conclusion:"
   ]
  },
  {
   "cell_type": "markdown",
   "metadata": {},
   "source": [
    "As it can be seen from the graph, LDA did a much better job in linearly separating classes while transforming features to 1D than PCA. This is due to the fact that  LDA is a supervised learning technique and already knows which data point belongs to which class, whereas PCA is an unsupervised learning technique and does not have that knowledge. Still, both techniques work well in projecting data points to new dimensions."
   ]
  },
  {
   "cell_type": "markdown",
   "metadata": {},
   "source": [
    "## References:\n",
    "\n",
    "\n",
    "[1] : A Step by Step Explanation of PCA (https://builtin.com/data-science/step-step-explanation-principal-component-analysis) \n",
    "\n",
    "[2]: Linear Discriminant Analysis (https://www.geeksforgeeks.org/ml-linear-discriminant-analysis/)"
   ]
  },
  {
   "cell_type": "code",
   "execution_count": null,
   "metadata": {},
   "outputs": [],
   "source": []
  }
 ],
 "metadata": {
  "kernelspec": {
   "display_name": "Python 3",
   "language": "python",
   "name": "python3"
  },
  "language_info": {
   "codemirror_mode": {
    "name": "ipython",
    "version": 3
   },
   "file_extension": ".py",
   "mimetype": "text/x-python",
   "name": "python",
   "nbconvert_exporter": "python",
   "pygments_lexer": "ipython3",
   "version": "3.8.3"
  }
 },
 "nbformat": 4,
 "nbformat_minor": 4
}
